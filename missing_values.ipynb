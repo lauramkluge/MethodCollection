{
 "cells": [
  {
   "cell_type": "code",
   "id": "initial_id",
   "metadata": {
    "collapsed": true,
    "ExecuteTime": {
     "end_time": "2025-07-30T19:38:47.514027Z",
     "start_time": "2025-07-30T19:38:40.146721Z"
    }
   },
   "source": [
    "import pandas as pd\n",
    "from sklearn.model_selection import train_test_split\n",
    "\n",
    "# Load the data\n",
    "data = pd.read_csv(\"melb_data.csv\")\n",
    "\n",
    "# Select target\n",
    "y = data.Price\n",
    "\n",
    "# To keep things simple, we'll use only numerical predictors\n",
    "melb_predictors = data.drop(['Price'], axis=1)\n",
    "X = melb_predictors.select_dtypes(exclude=['object'])\n",
    "\n",
    "# Divide data into training and validation subsets\n",
    "X_train, X_valid, y_train, y_valid = train_test_split(X, y, train_size=0.8, test_size=0.2,\n",
    "                                                      random_state=0)"
   ],
   "outputs": [],
   "execution_count": 1
  },
  {
   "metadata": {},
   "cell_type": "markdown",
   "source": "Create a function that trains random forest models and gives back their MAE",
   "id": "8b2cdbc00bb18a00"
  },
  {
   "metadata": {
    "ExecuteTime": {
     "end_time": "2025-07-30T19:38:48.339734Z",
     "start_time": "2025-07-30T19:38:47.530057Z"
    }
   },
   "cell_type": "code",
   "source": [
    "from sklearn.ensemble import RandomForestRegressor\n",
    "from sklearn.metrics import mean_absolute_error\n",
    "\n",
    "# Function for comparing different approaches\n",
    "def score_dataset(X_train, X_valid, y_train, y_valid):\n",
    "    model = RandomForestRegressor(n_estimators=10, random_state=0)\n",
    "    model.fit(X_train, y_train)\n",
    "    preds = model.predict(X_valid)\n",
    "    return mean_absolute_error(y_valid, preds)"
   ],
   "id": "3d17d9d42cb91ebb",
   "outputs": [],
   "execution_count": 2
  },
  {
   "metadata": {},
   "cell_type": "markdown",
   "source": "## Dealing with Missings",
   "id": "7fafad5d5ec3a0df"
  },
  {
   "metadata": {},
   "cell_type": "markdown",
   "source": [
    " Does the dataset have a lot of missing values, or just a few? Would we lose much information if we completely ignored the columns with missing entries?\n",
    "\n",
    "If there are relatively few missing entries in the data (observe e.g column with the greatest percentage of missing values), we can expect that dropping columns is unlikely to yield good results. This is because we'd be throwing away a lot of valuable data, and so imputation will likely perform better.\n",
    "\n",
    "Given that there are so few missing values in the dataset, we'd expect imputation to perform better than dropping columns entirely. However, sometimes dropping columns performs slightly better! While this can probably partially be attributed to noise in the dataset, another potential explanation is that the imputation method is not a great match to this dataset. That is, maybe instead of filling in the mean value, it makes more sense to set every missing value to a value of 0, to fill in the most frequently encountered value, or to use some other method. For instance, consider a feature which indicates the year that the garage was built. It's likely that in some cases, a missing value could indicate a house that does not have a garage. Does it make more sense to fill in the median value along each column in this case? Or could we get better results by filling in the minimum value along each column? It's not quite clear what's best in this case, but perhaps we can rule out some options immediately - for instance, setting missing values in this column to 0 is likely to yield horrible results!"
   ],
   "id": "f13a8f252977ccfe"
  },
  {
   "metadata": {
    "ExecuteTime": {
     "end_time": "2025-07-30T19:38:48.931928Z",
     "start_time": "2025-07-30T19:38:48.926147Z"
    }
   },
   "cell_type": "code",
   "source": [
    "# Shape of training data (num_rows, num_columns)\n",
    "print(X_train.shape)\n",
    "\n",
    "# Number of missing values in each column of training data\n",
    "missing_val_count_by_column = (X_train.isnull().sum())\n",
    "print(missing_val_count_by_column[missing_val_count_by_column > 0])"
   ],
   "id": "3ba825ed1decae79",
   "outputs": [
    {
     "name": "stdout",
     "output_type": "stream",
     "text": [
      "(10864, 12)\n",
      "Car               49\n",
      "BuildingArea    5156\n",
      "YearBuilt       4307\n",
      "dtype: int64\n"
     ]
    }
   ],
   "execution_count": 3
  },
  {
   "metadata": {},
   "cell_type": "markdown",
   "source": [
    "In approach 1 complete columns are deleted (instead of rows).\n",
    "\n",
    "Deleting an entire column might not be the best approach unless you see for example the information contained in there is useless:\n",
    " for example 90% of the data is missing or using other mechanisms like PCA that would tell you these might not be relevant."
   ],
   "id": "644e618f89e99b9f"
  },
  {
   "metadata": {},
   "cell_type": "markdown",
   "source": "##### Approach 1: Drop the Missings (drop whole feature if some values are missing)",
   "id": "73bcc2f8c27a88f3"
  },
  {
   "metadata": {
    "ExecuteTime": {
     "end_time": "2025-07-30T19:38:49.493742Z",
     "start_time": "2025-07-30T19:38:49.038434Z"
    }
   },
   "cell_type": "code",
   "source": [
    "# Get names of columns with missing values\n",
    "cols_with_missing = [col for col in X_train.columns\n",
    "                     if X_train[col].isnull().any()]\n",
    "\n",
    "# Drop columns in training and validation data\n",
    "reduced_X_train = X_train.drop(cols_with_missing, axis=1)\n",
    "reduced_X_valid = X_valid.drop(cols_with_missing, axis=1)\n",
    "\n",
    "print(\"MAE from Approach 1 (Drop columns with missing values):\")\n",
    "print(score_dataset(reduced_X_train, reduced_X_valid, y_train, y_valid))"
   ],
   "id": "3923e48ee6de69db",
   "outputs": [
    {
     "name": "stdout",
     "output_type": "stream",
     "text": [
      "MAE from Approach 1 (Drop columns with missing values):\n",
      "183550.22137772635\n"
     ]
    }
   ],
   "execution_count": 4
  },
  {
   "metadata": {},
   "cell_type": "markdown",
   "source": "##### Approach 2: Impute missings with mean value of each column",
   "id": "cb6651cbe2a7a292"
  },
  {
   "metadata": {
    "ExecuteTime": {
     "end_time": "2025-07-30T19:38:50.151595Z",
     "start_time": "2025-07-30T19:38:49.530225Z"
    }
   },
   "cell_type": "code",
   "source": [
    "from sklearn.impute import SimpleImputer\n",
    "\n",
    "# Imputation\n",
    "my_imputer = SimpleImputer()\n",
    "imputed_X_train = pd.DataFrame(my_imputer.fit_transform(X_train))\n",
    "# This learns the needed parameter from X (here: mean) and then transforms the data (here: fill in mean for missing values)\n",
    "imputed_X_valid = pd.DataFrame(my_imputer.transform(X_valid))\n",
    "# the validation data is imputed with the mean of the training data\n",
    "\n",
    "# Imputation removed column names; put them back\n",
    "imputed_X_train.columns = X_train.columns\n",
    "imputed_X_valid.columns = X_valid.columns\n",
    "\n",
    "print(\"MAE from Approach 2 (Imputation):\")\n",
    "print(score_dataset(imputed_X_train, imputed_X_valid, y_train, y_valid))"
   ],
   "id": "3646d5eb053a6606",
   "outputs": [
    {
     "name": "stdout",
     "output_type": "stream",
     "text": [
      "MAE from Approach 2 (Imputation):\n",
      "178166.46269899711\n"
     ]
    }
   ],
   "execution_count": 5
  },
  {
   "metadata": {},
   "cell_type": "markdown",
   "source": "Es ist auch möglich verschiedene Imputation Techniken zu verbinden:",
   "id": "24a27dd181a8da15"
  },
  {
   "metadata": {
    "ExecuteTime": {
     "end_time": "2025-07-30T19:38:50.763342Z",
     "start_time": "2025-07-30T19:38:50.206239Z"
    }
   },
   "cell_type": "code",
   "source": [
    "from sklearn.compose import ColumnTransformer\n",
    "\n",
    "preprocessor = ColumnTransformer(\n",
    "    transformers=[\n",
    "        ('min', SimpleImputer(strategy='constant', fill_value=X_train['Car'].min()), ['Car']),\n",
    "        ('median', SimpleImputer(strategy='median'), ['YearBuilt']),\n",
    "        #('most frequent', SimpleImputer(strategy='most_frequent'), ['BuildingArea'])\n",
    "        ('drop', 'drop', ['BuildingArea'] )\n",
    "    ],\n",
    "    remainder='passthrough'  # alle anderen Spalten bleiben erhalten\n",
    ")\n",
    "\n",
    "imputed_X_train2 = pd.DataFrame(preprocessor.fit_transform(X_train))\n",
    "# This learns the needed parameter from X (here: mean) and then transforms the data (here: fill in mean for missing values)\n",
    "imputed_X_valid2 = pd.DataFrame(preprocessor.transform(X_valid))\n",
    "# the validation data is imputed with the mean of the training data\n",
    "\n",
    "# Imputation removed column names; put them back\n",
    "imputed_X_train2.columns = X_train.columns.drop('BuildingArea')\n",
    "imputed_X_valid2.columns = X_valid.columns.drop('BuildingArea')\n",
    "\n",
    "print(\"MAE from Approach 2 (Imputation):\")\n",
    "print(score_dataset(imputed_X_train2, imputed_X_valid2, y_train, y_valid))"
   ],
   "id": "2b07632f7a82edf7",
   "outputs": [
    {
     "name": "stdout",
     "output_type": "stream",
     "text": [
      "MAE from Approach 2 (Imputation):\n",
      "182014.60704467352\n"
     ]
    }
   ],
   "execution_count": 6
  },
  {
   "metadata": {},
   "cell_type": "markdown",
   "source": "##### Approach 3: Impute as in 2 and keep track of what was imputed",
   "id": "6110d6b8d3456baa"
  },
  {
   "metadata": {
    "ExecuteTime": {
     "end_time": "2025-07-30T19:38:51.465182Z",
     "start_time": "2025-07-30T19:38:50.814226Z"
    }
   },
   "cell_type": "code",
   "source": [
    "# Make copy to avoid changing original data (when imputing)\n",
    "X_train_plus = X_train.copy()\n",
    "X_valid_plus = X_valid.copy()\n",
    "\n",
    "# Make new columns indicating what will be imputed\n",
    "for col in cols_with_missing:\n",
    "    X_train_plus[col + '_was_missing'] = X_train_plus[col].isnull()\n",
    "    X_valid_plus[col + '_was_missing'] = X_valid_plus[col].isnull()\n",
    "\n",
    "# Imputation\n",
    "my_imputer = SimpleImputer()\n",
    "imputed_X_train_plus = pd.DataFrame(my_imputer.fit_transform(X_train_plus))\n",
    "imputed_X_valid_plus = pd.DataFrame(my_imputer.transform(X_valid_plus))\n",
    "\n",
    "# Imputation removed column names; put them back\n",
    "imputed_X_train_plus.columns = X_train_plus.columns\n",
    "imputed_X_valid_plus.columns = X_valid_plus.columns\n",
    "\n",
    "print(\"MAE from Approach 3 (An Extension to Imputation):\")\n",
    "print(score_dataset(imputed_X_train_plus, imputed_X_valid_plus, y_train, y_valid))"
   ],
   "id": "6fcdb2d029e7bb59",
   "outputs": [
    {
     "name": "stdout",
     "output_type": "stream",
     "text": [
      "MAE from Approach 3 (An Extension to Imputation):\n",
      "178927.503183954\n"
     ]
    }
   ],
   "execution_count": 7
  },
  {
   "metadata": {},
   "cell_type": "markdown",
   "source": "",
   "id": "203919f92a0384e6"
  },
  {
   "metadata": {},
   "cell_type": "markdown",
   "source": "##### Approach 4: Deleting rows",
   "id": "ee20958da16acd21"
  },
  {
   "metadata": {
    "ExecuteTime": {
     "end_time": "2025-07-30T19:38:51.833258Z",
     "start_time": "2025-07-30T19:38:51.519304Z"
    }
   },
   "cell_type": "code",
   "source": [
    "row_red_X_train = X_train.dropna(axis=0)\n",
    "row_red_y_train = y_train.loc[row_red_X_train.index]\n",
    "print(\"MAE from Approach 4 (Drop rows with missing values):\")\n",
    "print(score_dataset(row_red_X_train, X_valid, row_red_y_train, y_valid))"
   ],
   "id": "7e3fa1651496e4e0",
   "outputs": [
    {
     "name": "stdout",
     "output_type": "stream",
     "text": [
      "MAE from Approach 4 (Drop rows with missing values):\n",
      "224328.82422680414\n"
     ]
    }
   ],
   "execution_count": 8
  },
  {
   "metadata": {},
   "cell_type": "markdown",
   "source": "jupyter nbconvert --to webpdf missing_values.ipynb",
   "id": "a8b30e1e27be9817"
  }
 ],
 "metadata": {
  "kernelspec": {
   "display_name": "Python 3",
   "language": "python",
   "name": "python3"
  },
  "language_info": {
   "codemirror_mode": {
    "name": "ipython",
    "version": 2
   },
   "file_extension": ".py",
   "mimetype": "text/x-python",
   "name": "python",
   "nbconvert_exporter": "python",
   "pygments_lexer": "ipython2",
   "version": "2.7.6"
  }
 },
 "nbformat": 4,
 "nbformat_minor": 5
}
